{
 "cells": [
  {
   "cell_type": "code",
   "execution_count": 20,
   "metadata": {},
   "outputs": [
    {
     "name": "stderr",
     "output_type": "stream",
     "text": [
      "┌ Info: Precompiling StatsPlots [f3b207a7-027a-5e70-b257-86293d7955fd]\n",
      "└ @ Base loading.jl:1186\n"
     ]
    }
   ],
   "source": [
    "using StatsBase\n",
    "using RDatasets\n",
    "using StatsPlots"
   ]
  },
  {
   "cell_type": "markdown",
   "metadata": {},
   "source": [
    "## 1. K-means"
   ]
  },
  {
   "cell_type": "code",
   "execution_count": 2,
   "metadata": {},
   "outputs": [
    {
     "data": {
      "text/plain": [
       "euclidean (generic function with 1 method)"
      ]
     },
     "execution_count": 2,
     "metadata": {},
     "output_type": "execute_result"
    }
   ],
   "source": [
    "function euclidean(sourcePoint, destPoint)\n",
    "    sum = 0\n",
    "    for i in 1:length(sourcePoint)\n",
    "        sum += (destPoint[i] - sourcePoint[i]) ^ 2\n",
    "    end\n",
    "    dist = sqrt(sum)\n",
    "    return dist\n",
    "end"
   ]
  },
  {
   "cell_type": "code",
   "execution_count": 66,
   "metadata": {},
   "outputs": [
    {
     "data": {
      "text/plain": [
       "kmeans (generic function with 3 methods)"
      ]
     },
     "execution_count": 66,
     "metadata": {},
     "output_type": "execute_result"
    }
   ],
   "source": [
    "function kmeans(X, k, max_iter = 100, threshold = 0.001)\n",
    "\n",
    "    centroids = convert(Array{Float64}, X[sample(axes(X, 1), k; replace = false, ordered = true), :])\n",
    "    new_centroids = copy(centroids)\n",
    "    cluster_ids = zeros(size(X,1))\n",
    "    \n",
    "    for iter in 1:max_iter\n",
    "        for i in 1:size(X, 1)\n",
    "            p = X[i,:]\n",
    "            distances = [[euclidean(p, centroids[j,:]) j] for j = 1:k]\n",
    "            sort!(distances, by = x -> x[1])\n",
    "            cluster_ids[i] = distances[1][2]\n",
    "        end\n",
    "        \n",
    "        \n",
    "        for cluster_id in 1:size(centroids, 1)\n",
    "            if size([X[i,:] for i in 1:size(X,1) if cluster_ids[i] == cluster_id])[1] != 0\n",
    "                new_centroids[cluster_id,:] = mean(X[i,:] for i in 1:size(X,1) if cluster_ids[i] == cluster_id)\n",
    "            end\n",
    "        end\n",
    "                    \n",
    "        center_change = sum(euclidean(centroids[i,:], new_centroids[i,:]) for i in 1:k)\n",
    "\n",
    "        centroids = copy(new_centroids)\n",
    "                    \n",
    "        if center_change < threshold\n",
    "            break\n",
    "        end\n",
    "    end\n",
    "    \n",
    "    return centroids, cluster_ids\n",
    "end"
   ]
  },
  {
   "cell_type": "markdown",
   "metadata": {},
   "source": [
    "## 2. RBF-Network"
   ]
  },
  {
   "cell_type": "code",
   "execution_count": 55,
   "metadata": {},
   "outputs": [
    {
     "data": {
      "text/plain": [
       "RBFNetwork (generic function with 1 method)"
      ]
     },
     "execution_count": 55,
     "metadata": {},
     "output_type": "execute_result"
    }
   ],
   "source": [
    "function RBFNetwork(X_train, Y_train, k, r)\n",
    "    \n",
    "    # get centroids with kmeans\n",
    "    centroids = kmeans(X_train, k)[1]\n",
    "    \n",
    "    G = zeros(size(X_train)[1], k+1)\n",
    "    \n",
    "    for i in 1:size(X_train)[1]\n",
    "        G[i,1] = 1\n",
    "        for j in 1:k\n",
    "            dist = (sum((centroids[j,k] - X_train[i,k])^2 for k in 1:size(X_train,2)))^0.5\n",
    "            G[i,j+1] = exp(-((dist/r)^2)/2)\n",
    "        end\n",
    "    end\n",
    "    \n",
    "    w = inv(transpose(G)*G)*transpose(G)*Y_train\n",
    "    return centroids, w\n",
    "end"
   ]
  },
  {
   "cell_type": "markdown",
   "metadata": {},
   "source": [
    "## 3. Erro"
   ]
  },
  {
   "cell_type": "code",
   "execution_count": 85,
   "metadata": {},
   "outputs": [
    {
     "data": {
      "text/plain": [
       "error (generic function with 1 method)"
      ]
     },
     "execution_count": 85,
     "metadata": {},
     "output_type": "execute_result"
    }
   ],
   "source": [
    "function error(X_test, Y_test, centroids, w, k, r)\n",
    "    perc = 0\n",
    "    sum_error = 0\n",
    "    for i in 1:size(X_test)[1]\n",
    "        g = ones(k+1)\n",
    "        for j in 1:k\n",
    "            dist = (sum((centroids[j,k] - X_test[i,k])^2 for k in 1:size(X_test,2)))^0.5\n",
    "            g[j+1] = exp(-((dist/r)^2)/2)\n",
    "        end\n",
    "        sum_error += abs(Y_test[i]-(transpose(w)*g)[1])\n",
    "        if abs(Y_test[i]-(transpose(w)*g)[1]) > Y_test[i]*0.1\n",
    "            perc += 1\n",
    "        end\n",
    "    end\n",
    "    return sum_error, perc\n",
    "end"
   ]
  },
  {
   "cell_type": "markdown",
   "metadata": {},
   "source": [
    "## 4. Cross Validation"
   ]
  },
  {
   "cell_type": "code",
   "execution_count": 57,
   "metadata": {},
   "outputs": [
    {
     "data": {
      "text/plain": [
       "shufflerows (generic function with 1 method)"
      ]
     },
     "execution_count": 57,
     "metadata": {},
     "output_type": "execute_result"
    }
   ],
   "source": [
    "function shufflerows(a::AbstractMatrix)\n",
    "    n = size(a, 1)\n",
    "    ord = sample(1:n, n, replace = false)\n",
    "    a[ord,:]\n",
    "end"
   ]
  },
  {
   "cell_type": "code",
   "execution_count": 81,
   "metadata": {},
   "outputs": [
    {
     "data": {
      "text/plain": [
       "cross_validation (generic function with 2 methods)"
      ]
     },
     "execution_count": 81,
     "metadata": {},
     "output_type": "execute_result"
    }
   ],
   "source": [
    "function cross_validation(X_train, Y_train, k, q = -1)\n",
    "    if q == -1\n",
    "        q = [i for i in 1:10]\n",
    "    end\n",
    "    \n",
    "    #rows = [i for i in 1:size(X_train, 1)]\n",
    "    #rows = shufflerows(rows)\n",
    "    \n",
    "    X_train = shufflerows(X_train)\n",
    "    \n",
    "    size_train = size(X_train, 1)\n",
    "    size_part = convert(Int, floor(size_train/length(q)))\n",
    "    \n",
    "    min_error = 100000000000000000000 \n",
    "    best_r = []\n",
    "    sum_error = 0\n",
    "    best_perc = 0\n",
    "    quant_t = 0\n",
    "    \n",
    "    for part in 1:length(q)\n",
    "        if part != length(q)\n",
    "            elements_part = [x for x in 1:size_train if x<=(part-1)*size_part || x>part*size_part]\n",
    "            \n",
    "            X_test_aux = X_train[(part-1)*size_part+1:part*size_part,:]\n",
    "            X_train_aux = X_train[elements_part,:]\n",
    "                        \n",
    "            Y_test_aux = Y_train[(part-1)*size_part+1:part*size_part,:]\n",
    "            Y_train_aux = Y_train[elements_part,:]\n",
    "        else          \n",
    "            X_test_aux = X_train[(part-1)*size_part+1:end, :]\n",
    "            X_train_aux = X_train[1:(part-1)*size_part,:]\n",
    "                                    \n",
    "            Y_test_aux = Y_train[(part-1)*size_part+1:end, :]\n",
    "            Y_train_aux = Y_train[1:(part-1)*size_part,:]             \n",
    "        end\n",
    "        \n",
    "        quant_t += length(Y_train_aux)\n",
    "        centroids, w = RBFNetwork(X_train_aux, Y_train_aux, k, q[part])\n",
    "                \n",
    "        e, perc = error(X_test_aux, Y_test_aux, centroids, w, k, q[part])\n",
    "        best_perc += perc\n",
    "\n",
    "        if e < min_error\n",
    "            min_error = e\n",
    "            best_r = q[part]\n",
    "        end\n",
    "                    \n",
    "        sum_error += e\n",
    "    end\n",
    "    return best_r, sum_error/length(q), 1-best_perc/quant_t\n",
    "end"
   ]
  },
  {
   "cell_type": "markdown",
   "metadata": {},
   "source": [
    "## 5. Teste"
   ]
  },
  {
   "cell_type": "code",
   "execution_count": 59,
   "metadata": {},
   "outputs": [
    {
     "data": {
      "text/html": [
       "<table class=\"data-frame\"><thead><tr><th></th><th>Package</th><th>Dataset</th><th>Title</th><th>Rows</th></tr><tr><th></th><th>String</th><th>String</th><th>String</th><th>Int64</th></tr></thead><tbody><p>93 rows × 5 columns (omitted printing of 1 columns)</p><tr><th>1</th><td>Ecdat</td><td>Accident</td><td>Ship Accidents</td><td>40</td></tr><tr><th>2</th><td>Ecdat</td><td>Airline</td><td>Cost for U.S. Airlines</td><td>90</td></tr><tr><th>3</th><td>Ecdat</td><td>Airq</td><td>Air Quality for Californian Metropolitan Areas</td><td>30</td></tr><tr><th>4</th><td>Ecdat</td><td>Benefits</td><td>Unemployement of Blue Collar Workers</td><td>4877</td></tr><tr><th>5</th><td>Ecdat</td><td>Bids</td><td>Bids Received By U.S. Firms</td><td>126</td></tr><tr><th>6</th><td>Ecdat</td><td>BudgetFood</td><td>Budget Share of Food for Spanish Households</td><td>23972</td></tr><tr><th>7</th><td>Ecdat</td><td>BudgetItaly</td><td>Budget Shares for Italian Households</td><td>1729</td></tr><tr><th>8</th><td>Ecdat</td><td>BudgetUK</td><td>Budget Shares of British Households</td><td>1519</td></tr><tr><th>9</th><td>Ecdat</td><td>Bwages</td><td>Wages in Belgium</td><td>1472</td></tr><tr><th>10</th><td>Ecdat</td><td>CPSch3</td><td>Earnings from the Current Population Survey</td><td>11130</td></tr><tr><th>11</th><td>Ecdat</td><td>Capm</td><td>Stock Market Data</td><td>516</td></tr><tr><th>12</th><td>Ecdat</td><td>Car</td><td>Stated Preferences for Car Choice</td><td>4654</td></tr><tr><th>13</th><td>Ecdat</td><td>Caschool</td><td>The California Test Score Data Set</td><td>420</td></tr><tr><th>14</th><td>Ecdat</td><td>Catsup</td><td>Choice of Brand for Catsup</td><td>2798</td></tr><tr><th>15</th><td>Ecdat</td><td>Cigar</td><td>Cigarette Consumption</td><td>1380</td></tr><tr><th>16</th><td>Ecdat</td><td>Cigarette</td><td>The Cigarette Consumption Panel Data Set</td><td>528</td></tr><tr><th>17</th><td>Ecdat</td><td>Clothing</td><td>Sales Data of Men's Fashion Stores</td><td>400</td></tr><tr><th>18</th><td>Ecdat</td><td>Computers</td><td>Prices of Personal Computers</td><td>6259</td></tr><tr><th>19</th><td>Ecdat</td><td>Cracker</td><td>Choice of Brand for Crakers</td><td>3292</td></tr><tr><th>20</th><td>Ecdat</td><td>Crime</td><td>Crime in North Carolina</td><td>630</td></tr><tr><th>21</th><td>Ecdat</td><td>DM</td><td>DM Dollar Exchange Rate</td><td>778</td></tr><tr><th>22</th><td>Ecdat</td><td>Diamond</td><td>Pricing the C's of Diamond Stones</td><td>308</td></tr><tr><th>23</th><td>Ecdat</td><td>Doctor</td><td>Number of Doctor Visits</td><td>485</td></tr><tr><th>24</th><td>Ecdat</td><td>DoctorAUS</td><td>Doctor Visits in Australia</td><td>5190</td></tr><tr><th>25</th><td>Ecdat</td><td>DoctorContacts</td><td>Contacts With Medical Doctor</td><td>20186</td></tr><tr><th>26</th><td>Ecdat</td><td>Earnings</td><td>Earnings for Three Age Groups</td><td>4266</td></tr><tr><th>27</th><td>Ecdat</td><td>Electricity</td><td>Cost Function for Electricity Producers</td><td>158</td></tr><tr><th>28</th><td>Ecdat</td><td>Fair</td><td>Extramarital Affairs Data</td><td>601</td></tr><tr><th>29</th><td>Ecdat</td><td>Fatality</td><td>Drunk Driving Laws and Traffic Deaths</td><td>336</td></tr><tr><th>30</th><td>Ecdat</td><td>Fishing</td><td>Choice of Fishing Mode</td><td>1182</td></tr><tr><th>&vellip;</th><td>&vellip;</td><td>&vellip;</td><td>&vellip;</td><td>&vellip;</td></tr></tbody></table>"
      ],
      "text/latex": [
       "\\begin{tabular}{r|ccccc}\n",
       "\t& Package & Dataset & Title & Rows & \\\\\n",
       "\t\\hline\n",
       "\t& String & String & String & Int64 & \\\\\n",
       "\t\\hline\n",
       "\t1 & Ecdat & Accident & Ship Accidents & 40 & $\\dots$ \\\\\n",
       "\t2 & Ecdat & Airline & Cost for U.S. Airlines & 90 & $\\dots$ \\\\\n",
       "\t3 & Ecdat & Airq & Air Quality for Californian Metropolitan Areas & 30 & $\\dots$ \\\\\n",
       "\t4 & Ecdat & Benefits & Unemployement of Blue Collar Workers & 4877 & $\\dots$ \\\\\n",
       "\t5 & Ecdat & Bids & Bids Received By U.S. Firms & 126 & $\\dots$ \\\\\n",
       "\t6 & Ecdat & BudgetFood & Budget Share of Food for Spanish Households & 23972 & $\\dots$ \\\\\n",
       "\t7 & Ecdat & BudgetItaly & Budget Shares for Italian Households & 1729 & $\\dots$ \\\\\n",
       "\t8 & Ecdat & BudgetUK & Budget Shares of British Households & 1519 & $\\dots$ \\\\\n",
       "\t9 & Ecdat & Bwages & Wages in Belgium & 1472 & $\\dots$ \\\\\n",
       "\t10 & Ecdat & CPSch3 & Earnings from the Current Population Survey & 11130 & $\\dots$ \\\\\n",
       "\t11 & Ecdat & Capm & Stock Market Data & 516 & $\\dots$ \\\\\n",
       "\t12 & Ecdat & Car & Stated Preferences for Car Choice & 4654 & $\\dots$ \\\\\n",
       "\t13 & Ecdat & Caschool & The California Test Score Data Set & 420 & $\\dots$ \\\\\n",
       "\t14 & Ecdat & Catsup & Choice of Brand for Catsup & 2798 & $\\dots$ \\\\\n",
       "\t15 & Ecdat & Cigar & Cigarette Consumption & 1380 & $\\dots$ \\\\\n",
       "\t16 & Ecdat & Cigarette & The Cigarette Consumption Panel Data Set & 528 & $\\dots$ \\\\\n",
       "\t17 & Ecdat & Clothing & Sales Data of Men's Fashion Stores & 400 & $\\dots$ \\\\\n",
       "\t18 & Ecdat & Computers & Prices of Personal Computers & 6259 & $\\dots$ \\\\\n",
       "\t19 & Ecdat & Cracker & Choice of Brand for Crakers & 3292 & $\\dots$ \\\\\n",
       "\t20 & Ecdat & Crime & Crime in North Carolina & 630 & $\\dots$ \\\\\n",
       "\t21 & Ecdat & DM & DM Dollar Exchange Rate & 778 & $\\dots$ \\\\\n",
       "\t22 & Ecdat & Diamond & Pricing the C's of Diamond Stones & 308 & $\\dots$ \\\\\n",
       "\t23 & Ecdat & Doctor & Number of Doctor Visits & 485 & $\\dots$ \\\\\n",
       "\t24 & Ecdat & DoctorAUS & Doctor Visits in Australia & 5190 & $\\dots$ \\\\\n",
       "\t25 & Ecdat & DoctorContacts & Contacts With Medical Doctor & 20186 & $\\dots$ \\\\\n",
       "\t26 & Ecdat & Earnings & Earnings for Three Age Groups & 4266 & $\\dots$ \\\\\n",
       "\t27 & Ecdat & Electricity & Cost Function for Electricity Producers & 158 & $\\dots$ \\\\\n",
       "\t28 & Ecdat & Fair & Extramarital Affairs Data & 601 & $\\dots$ \\\\\n",
       "\t29 & Ecdat & Fatality & Drunk Driving Laws and Traffic Deaths & 336 & $\\dots$ \\\\\n",
       "\t30 & Ecdat & Fishing & Choice of Fishing Mode & 1182 & $\\dots$ \\\\\n",
       "\t$\\dots$ & $\\dots$ & $\\dots$ & $\\dots$ & $\\dots$ &  \\\\\n",
       "\\end{tabular}\n"
      ],
      "text/plain": [
       "93×5 DataFrame. Omitted printing of 3 columns\n",
       "│ Row │ Package │ Dataset          │\n",
       "│     │ \u001b[90mString\u001b[39m  │ \u001b[90mString\u001b[39m           │\n",
       "├─────┼─────────┼──────────────────┤\n",
       "│ 1   │ Ecdat   │ Accident         │\n",
       "│ 2   │ Ecdat   │ Airline          │\n",
       "│ 3   │ Ecdat   │ Airq             │\n",
       "│ 4   │ Ecdat   │ Benefits         │\n",
       "│ 5   │ Ecdat   │ Bids             │\n",
       "│ 6   │ Ecdat   │ BudgetFood       │\n",
       "│ 7   │ Ecdat   │ BudgetItaly      │\n",
       "│ 8   │ Ecdat   │ BudgetUK         │\n",
       "│ 9   │ Ecdat   │ Bwages           │\n",
       "│ 10  │ Ecdat   │ CPSch3           │\n",
       "⋮\n",
       "│ 83  │ Ecdat   │ Tuna             │\n",
       "│ 84  │ Ecdat   │ UnempDur         │\n",
       "│ 85  │ Ecdat   │ Unemployment     │\n",
       "│ 86  │ Ecdat   │ University       │\n",
       "│ 87  │ Ecdat   │ VietNamI         │\n",
       "│ 88  │ Ecdat   │ Wages            │\n",
       "│ 89  │ Ecdat   │ Wages1           │\n",
       "│ 90  │ Ecdat   │ Workinghours     │\n",
       "│ 91  │ Ecdat   │ Yen              │\n",
       "│ 92  │ Ecdat   │ Yogurt           │\n",
       "│ 93  │ Ecdat   │ incomeInequality │"
      ]
     },
     "metadata": {},
     "output_type": "display_data"
    }
   ],
   "source": [
    "Data = RDatasets.datasets(\"Ecdat\");\n",
    "display(sort!(Data, :Dataset));"
   ]
  },
  {
   "cell_type": "code",
   "execution_count": 60,
   "metadata": {},
   "outputs": [
    {
     "data": {
      "text/html": [
       "<table class=\"data-frame\"><thead><tr><th></th><th>Price</th><th>Speed</th><th>HD</th><th>RAM</th><th>Screen</th><th>CD</th><th>Multi</th><th>Premium</th><th>Ads</th></tr><tr><th></th><th>Int32</th><th>Int32</th><th>Int32</th><th>Int32</th><th>Int32</th><th>Categorical…</th><th>Categorical…</th><th>Categorical…</th><th>Int32</th></tr></thead><tbody><p>6,259 rows × 10 columns (omitted printing of 1 columns)</p><tr><th>1</th><td>1499</td><td>25</td><td>80</td><td>4</td><td>14</td><td>no</td><td>no</td><td>yes</td><td>94</td></tr><tr><th>2</th><td>1795</td><td>33</td><td>85</td><td>2</td><td>14</td><td>no</td><td>no</td><td>yes</td><td>94</td></tr><tr><th>3</th><td>1595</td><td>25</td><td>170</td><td>4</td><td>15</td><td>no</td><td>no</td><td>yes</td><td>94</td></tr><tr><th>4</th><td>1849</td><td>25</td><td>170</td><td>8</td><td>14</td><td>no</td><td>no</td><td>no</td><td>94</td></tr><tr><th>5</th><td>3295</td><td>33</td><td>340</td><td>16</td><td>14</td><td>no</td><td>no</td><td>yes</td><td>94</td></tr><tr><th>6</th><td>3695</td><td>66</td><td>340</td><td>16</td><td>14</td><td>no</td><td>no</td><td>yes</td><td>94</td></tr><tr><th>7</th><td>1720</td><td>25</td><td>170</td><td>4</td><td>14</td><td>yes</td><td>no</td><td>yes</td><td>94</td></tr><tr><th>8</th><td>1995</td><td>50</td><td>85</td><td>2</td><td>14</td><td>no</td><td>no</td><td>yes</td><td>94</td></tr><tr><th>9</th><td>2225</td><td>50</td><td>210</td><td>8</td><td>14</td><td>no</td><td>no</td><td>yes</td><td>94</td></tr><tr><th>10</th><td>2575</td><td>50</td><td>210</td><td>4</td><td>15</td><td>no</td><td>no</td><td>yes</td><td>94</td></tr><tr><th>11</th><td>2195</td><td>33</td><td>170</td><td>8</td><td>15</td><td>no</td><td>no</td><td>yes</td><td>94</td></tr><tr><th>12</th><td>2605</td><td>66</td><td>210</td><td>8</td><td>14</td><td>no</td><td>no</td><td>yes</td><td>94</td></tr><tr><th>13</th><td>2045</td><td>50</td><td>130</td><td>4</td><td>14</td><td>no</td><td>no</td><td>yes</td><td>94</td></tr><tr><th>14</th><td>2295</td><td>25</td><td>245</td><td>8</td><td>14</td><td>no</td><td>no</td><td>yes</td><td>94</td></tr><tr><th>15</th><td>2699</td><td>50</td><td>212</td><td>8</td><td>14</td><td>no</td><td>no</td><td>yes</td><td>94</td></tr><tr><th>16</th><td>2225</td><td>50</td><td>130</td><td>4</td><td>14</td><td>no</td><td>no</td><td>yes</td><td>94</td></tr><tr><th>17</th><td>1595</td><td>33</td><td>85</td><td>2</td><td>14</td><td>no</td><td>no</td><td>yes</td><td>94</td></tr><tr><th>18</th><td>2325</td><td>33</td><td>210</td><td>4</td><td>15</td><td>no</td><td>no</td><td>yes</td><td>94</td></tr><tr><th>19</th><td>2095</td><td>33</td><td>250</td><td>4</td><td>15</td><td>no</td><td>no</td><td>yes</td><td>94</td></tr><tr><th>20</th><td>4395</td><td>66</td><td>452</td><td>8</td><td>14</td><td>no</td><td>no</td><td>yes</td><td>94</td></tr><tr><th>21</th><td>1695</td><td>33</td><td>130</td><td>4</td><td>14</td><td>no</td><td>no</td><td>yes</td><td>94</td></tr><tr><th>22</th><td>2795</td><td>66</td><td>130</td><td>4</td><td>14</td><td>no</td><td>no</td><td>yes</td><td>94</td></tr><tr><th>23</th><td>2895</td><td>25</td><td>340</td><td>16</td><td>14</td><td>no</td><td>no</td><td>yes</td><td>94</td></tr><tr><th>24</th><td>2875</td><td>50</td><td>210</td><td>4</td><td>17</td><td>no</td><td>no</td><td>yes</td><td>94</td></tr><tr><th>25</th><td>4195</td><td>50</td><td>452</td><td>8</td><td>14</td><td>no</td><td>no</td><td>yes</td><td>94</td></tr><tr><th>26</th><td>1290</td><td>33</td><td>80</td><td>2</td><td>14</td><td>no</td><td>no</td><td>yes</td><td>94</td></tr><tr><th>27</th><td>1975</td><td>33</td><td>130</td><td>4</td><td>14</td><td>no</td><td>no</td><td>yes</td><td>94</td></tr><tr><th>28</th><td>3995</td><td>33</td><td>452</td><td>8</td><td>14</td><td>no</td><td>no</td><td>yes</td><td>94</td></tr><tr><th>29</th><td>3095</td><td>33</td><td>340</td><td>16</td><td>14</td><td>no</td><td>no</td><td>yes</td><td>94</td></tr><tr><th>30</th><td>3244</td><td>66</td><td>245</td><td>8</td><td>14</td><td>no</td><td>no</td><td>yes</td><td>94</td></tr><tr><th>&vellip;</th><td>&vellip;</td><td>&vellip;</td><td>&vellip;</td><td>&vellip;</td><td>&vellip;</td><td>&vellip;</td><td>&vellip;</td><td>&vellip;</td><td>&vellip;</td></tr></tbody></table>"
      ],
      "text/latex": [
       "\\begin{tabular}{r|cccccccccc}\n",
       "\t& Price & Speed & HD & RAM & Screen & CD & Multi & Premium & Ads & \\\\\n",
       "\t\\hline\n",
       "\t& Int32 & Int32 & Int32 & Int32 & Int32 & Categorical… & Categorical… & Categorical… & Int32 & \\\\\n",
       "\t\\hline\n",
       "\t1 & 1499 & 25 & 80 & 4 & 14 & no & no & yes & 94 & $\\dots$ \\\\\n",
       "\t2 & 1795 & 33 & 85 & 2 & 14 & no & no & yes & 94 & $\\dots$ \\\\\n",
       "\t3 & 1595 & 25 & 170 & 4 & 15 & no & no & yes & 94 & $\\dots$ \\\\\n",
       "\t4 & 1849 & 25 & 170 & 8 & 14 & no & no & no & 94 & $\\dots$ \\\\\n",
       "\t5 & 3295 & 33 & 340 & 16 & 14 & no & no & yes & 94 & $\\dots$ \\\\\n",
       "\t6 & 3695 & 66 & 340 & 16 & 14 & no & no & yes & 94 & $\\dots$ \\\\\n",
       "\t7 & 1720 & 25 & 170 & 4 & 14 & yes & no & yes & 94 & $\\dots$ \\\\\n",
       "\t8 & 1995 & 50 & 85 & 2 & 14 & no & no & yes & 94 & $\\dots$ \\\\\n",
       "\t9 & 2225 & 50 & 210 & 8 & 14 & no & no & yes & 94 & $\\dots$ \\\\\n",
       "\t10 & 2575 & 50 & 210 & 4 & 15 & no & no & yes & 94 & $\\dots$ \\\\\n",
       "\t11 & 2195 & 33 & 170 & 8 & 15 & no & no & yes & 94 & $\\dots$ \\\\\n",
       "\t12 & 2605 & 66 & 210 & 8 & 14 & no & no & yes & 94 & $\\dots$ \\\\\n",
       "\t13 & 2045 & 50 & 130 & 4 & 14 & no & no & yes & 94 & $\\dots$ \\\\\n",
       "\t14 & 2295 & 25 & 245 & 8 & 14 & no & no & yes & 94 & $\\dots$ \\\\\n",
       "\t15 & 2699 & 50 & 212 & 8 & 14 & no & no & yes & 94 & $\\dots$ \\\\\n",
       "\t16 & 2225 & 50 & 130 & 4 & 14 & no & no & yes & 94 & $\\dots$ \\\\\n",
       "\t17 & 1595 & 33 & 85 & 2 & 14 & no & no & yes & 94 & $\\dots$ \\\\\n",
       "\t18 & 2325 & 33 & 210 & 4 & 15 & no & no & yes & 94 & $\\dots$ \\\\\n",
       "\t19 & 2095 & 33 & 250 & 4 & 15 & no & no & yes & 94 & $\\dots$ \\\\\n",
       "\t20 & 4395 & 66 & 452 & 8 & 14 & no & no & yes & 94 & $\\dots$ \\\\\n",
       "\t21 & 1695 & 33 & 130 & 4 & 14 & no & no & yes & 94 & $\\dots$ \\\\\n",
       "\t22 & 2795 & 66 & 130 & 4 & 14 & no & no & yes & 94 & $\\dots$ \\\\\n",
       "\t23 & 2895 & 25 & 340 & 16 & 14 & no & no & yes & 94 & $\\dots$ \\\\\n",
       "\t24 & 2875 & 50 & 210 & 4 & 17 & no & no & yes & 94 & $\\dots$ \\\\\n",
       "\t25 & 4195 & 50 & 452 & 8 & 14 & no & no & yes & 94 & $\\dots$ \\\\\n",
       "\t26 & 1290 & 33 & 80 & 2 & 14 & no & no & yes & 94 & $\\dots$ \\\\\n",
       "\t27 & 1975 & 33 & 130 & 4 & 14 & no & no & yes & 94 & $\\dots$ \\\\\n",
       "\t28 & 3995 & 33 & 452 & 8 & 14 & no & no & yes & 94 & $\\dots$ \\\\\n",
       "\t29 & 3095 & 33 & 340 & 16 & 14 & no & no & yes & 94 & $\\dots$ \\\\\n",
       "\t30 & 3244 & 66 & 245 & 8 & 14 & no & no & yes & 94 & $\\dots$ \\\\\n",
       "\t$\\dots$ & $\\dots$ & $\\dots$ & $\\dots$ & $\\dots$ & $\\dots$ & $\\dots$ & $\\dots$ & $\\dots$ & $\\dots$ &  \\\\\n",
       "\\end{tabular}\n"
      ],
      "text/plain": [
       "6259×10 DataFrame. Omitted printing of 3 columns\n",
       "│ Row  │ Price │ Speed │ HD    │ RAM   │ Screen │ CD           │ Multi        │\n",
       "│      │ \u001b[90mInt32\u001b[39m │ \u001b[90mInt32\u001b[39m │ \u001b[90mInt32\u001b[39m │ \u001b[90mInt32\u001b[39m │ \u001b[90mInt32\u001b[39m  │ \u001b[90mCategorical…\u001b[39m │ \u001b[90mCategorical…\u001b[39m │\n",
       "├──────┼───────┼───────┼───────┼───────┼────────┼──────────────┼──────────────┤\n",
       "│ 1    │ 1499  │ 25    │ 80    │ 4     │ 14     │ no           │ no           │\n",
       "│ 2    │ 1795  │ 33    │ 85    │ 2     │ 14     │ no           │ no           │\n",
       "│ 3    │ 1595  │ 25    │ 170   │ 4     │ 15     │ no           │ no           │\n",
       "│ 4    │ 1849  │ 25    │ 170   │ 8     │ 14     │ no           │ no           │\n",
       "│ 5    │ 3295  │ 33    │ 340   │ 16    │ 14     │ no           │ no           │\n",
       "│ 6    │ 3695  │ 66    │ 340   │ 16    │ 14     │ no           │ no           │\n",
       "│ 7    │ 1720  │ 25    │ 170   │ 4     │ 14     │ yes          │ no           │\n",
       "│ 8    │ 1995  │ 50    │ 85    │ 2     │ 14     │ no           │ no           │\n",
       "│ 9    │ 2225  │ 50    │ 210   │ 8     │ 14     │ no           │ no           │\n",
       "│ 10   │ 2575  │ 50    │ 210   │ 4     │ 15     │ no           │ no           │\n",
       "⋮\n",
       "│ 6249 │ 2623  │ 66    │ 1200  │ 24    │ 15     │ yes          │ yes          │\n",
       "│ 6250 │ 2095  │ 66    │ 850   │ 16    │ 15     │ yes          │ no           │\n",
       "│ 6251 │ 2495  │ 66    │ 1200  │ 24    │ 15     │ yes          │ no           │\n",
       "│ 6252 │ 2995  │ 66    │ 1600  │ 32    │ 15     │ yes          │ no           │\n",
       "│ 6253 │ 1690  │ 66    │ 1200  │ 8     │ 14     │ no           │ no           │\n",
       "│ 6254 │ 2154  │ 66    │ 850   │ 16    │ 15     │ yes          │ no           │\n",
       "│ 6255 │ 1690  │ 100   │ 528   │ 8     │ 15     │ no           │ no           │\n",
       "│ 6256 │ 2223  │ 66    │ 850   │ 16    │ 15     │ yes          │ yes          │\n",
       "│ 6257 │ 2654  │ 100   │ 1200  │ 24    │ 15     │ yes          │ no           │\n",
       "│ 6258 │ 2195  │ 100   │ 850   │ 16    │ 15     │ yes          │ no           │\n",
       "│ 6259 │ 2490  │ 100   │ 850   │ 16    │ 17     │ yes          │ no           │"
      ]
     },
     "execution_count": 60,
     "metadata": {},
     "output_type": "execute_result"
    }
   ],
   "source": [
    "Computers = dataset(\"Ecdat\", \"Computers\")"
   ]
  },
  {
   "cell_type": "code",
   "execution_count": 133,
   "metadata": {},
   "outputs": [],
   "source": [
    "C = convert(Matrix{Float64}, Computers[completecases(Computers), 1:5]);"
   ]
  },
  {
   "cell_type": "code",
   "execution_count": 134,
   "metadata": {},
   "outputs": [
    {
     "data": {
      "text/plain": [
       "(6259, 5)"
      ]
     },
     "execution_count": 134,
     "metadata": {},
     "output_type": "execute_result"
    }
   ],
   "source": [
    "size(C)"
   ]
  },
  {
   "cell_type": "code",
   "execution_count": 135,
   "metadata": {},
   "outputs": [],
   "source": [
    "C = shufflerows(C);"
   ]
  },
  {
   "cell_type": "code",
   "execution_count": 136,
   "metadata": {},
   "outputs": [],
   "source": [
    "X_train = C[1:5259, 2:5]\n",
    "Y_train = C[1:5259, 1];"
   ]
  },
  {
   "cell_type": "code",
   "execution_count": 137,
   "metadata": {},
   "outputs": [],
   "source": [
    "X_test = C[5230:6259, 2:5]\n",
    "Y_test = C[5230:6259, 1];"
   ]
  },
  {
   "cell_type": "code",
   "execution_count": 146,
   "metadata": {
    "scrolled": false
   },
   "outputs": [
    {
     "data": {
      "text/plain": [
       "(25, 28670.308139564135, 0.9914767960806684)"
      ]
     },
     "execution_count": 146,
     "metadata": {},
     "output_type": "execute_result"
    }
   ],
   "source": [
    "q = [x for x in 15:100]\n",
    "k = 25\n",
    "r, in_sample_error, perc = cross_validation(X_train, Y_train, k, q)"
   ]
  },
  {
   "cell_type": "code",
   "execution_count": 147,
   "metadata": {},
   "outputs": [
    {
     "data": {
      "text/plain": [
       "([69.4321 341.461 7.92857 14.9429; 59.3571 723.571 13.7143 15.1619; … ; 39.2128 339.966 6.64531 14.7712; 50.0 424.471 6.57692 14.6538], [2616.99, 172.175, -272.689, -1327.27, 179.607, -5.88367, -328.621, -35.6197, -548.824, 1709.91  …  2322.28, -891.45, 804.753, 114.537, -781.98, -2675.2, 147.02, 1417.6, -642.285, -1340.52])"
      ]
     },
     "execution_count": 147,
     "metadata": {},
     "output_type": "execute_result"
    }
   ],
   "source": [
    "centroids, w = RBFNetwork(X_train, Y_train, k, r)"
   ]
  },
  {
   "cell_type": "code",
   "execution_count": 148,
   "metadata": {},
   "outputs": [
    {
     "data": {
      "text/plain": [
       "(368773.2919243612, 620)"
      ]
     },
     "execution_count": 148,
     "metadata": {},
     "output_type": "execute_result"
    }
   ],
   "source": [
    "erro_absoluto, pontos_errados = error(X_test, Y_test, centroids, w, k, r)"
   ]
  },
  {
   "cell_type": "code",
   "execution_count": 149,
   "metadata": {},
   "outputs": [
    {
     "data": {
      "text/plain": [
       "0.3980582524271845"
      ]
     },
     "execution_count": 149,
     "metadata": {},
     "output_type": "execute_result"
    }
   ],
   "source": [
    "1-pontos_errados/length(Y_test)"
   ]
  },
  {
   "cell_type": "code",
   "execution_count": null,
   "metadata": {},
   "outputs": [],
   "source": []
  }
 ],
 "metadata": {
  "kernelspec": {
   "display_name": "Julia 1.1.0",
   "language": "julia",
   "name": "julia-1.1"
  },
  "language_info": {
   "file_extension": ".jl",
   "mimetype": "application/julia",
   "name": "julia",
   "version": "1.1.0"
  }
 },
 "nbformat": 4,
 "nbformat_minor": 2
}
