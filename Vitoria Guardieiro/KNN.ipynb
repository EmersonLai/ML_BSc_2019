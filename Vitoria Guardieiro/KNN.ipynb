{
 "cells": [
  {
   "cell_type": "markdown",
   "metadata": {},
   "source": [
    "# Regressão k-NN"
   ]
  },
  {
   "cell_type": "markdown",
   "metadata": {},
   "source": [
    "## 1. Sem condensation"
   ]
  },
  {
   "cell_type": "code",
   "execution_count": 1,
   "metadata": {},
   "outputs": [
    {
     "data": {
      "text/plain": [
       "predict (generic function with 1 method)"
      ]
     },
     "execution_count": 1,
     "metadata": {},
     "output_type": "execute_result"
    }
   ],
   "source": [
    "function predict(X_train, y_train, x_test, k)\n",
    "    # create list for distances and targets\n",
    "    distances = []\n",
    "    sum_y = 0\n",
    "    for i in 1:size(X_train)[1]\n",
    "        # first we compute the euclidean distance\n",
    "        distance = (sum((x_test[j] - X_train[i, j])^2 for j in 1:length(x_test)))^0.5\n",
    "        # add it to list of distances\n",
    "        push!(distances, [distance, i])\n",
    "    end\n",
    "\n",
    "    # sort the list\n",
    "    sort!(distances, by = x -> x[1])\n",
    "\n",
    "    # make a list of the k neighbors' targets\n",
    "    for i in 1:k\n",
    "        index = convert(Int, distances[i][2])[1]\n",
    "        sum_y += y_train[index]\n",
    "    end\n",
    "\n",
    "    # return mean of closest y\n",
    "    return sum_y/k\n",
    "end"
   ]
  },
  {
   "cell_type": "code",
   "execution_count": 2,
   "metadata": {},
   "outputs": [
    {
     "data": {
      "text/plain": [
       "kNearestNeighbor (generic function with 1 method)"
      ]
     },
     "execution_count": 2,
     "metadata": {},
     "output_type": "execute_result"
    }
   ],
   "source": [
    "function kNearestNeighbor(X_train, y_train, X_test, k)\n",
    "    predictions = []\n",
    "    \n",
    "    # check if k larger than n\n",
    "    if k > length(X_train)\n",
    "        println(\"O número de pontos deve ser maior que k\")\n",
    "        return \n",
    "    end\n",
    "\n",
    "    # predict for each testing observation\n",
    "    for i in 1:size(X_test)[1]\n",
    "        append!(predictions, predict(X_train, y_train, X_test[i, :], k))\n",
    "    end\n",
    "    return predictions\n",
    "end"
   ]
  },
  {
   "cell_type": "code",
   "execution_count": 3,
   "metadata": {},
   "outputs": [
    {
     "data": {
      "text/plain": [
       "10×2 Array{Float64,2}:\n",
       " 5.0   45.0\n",
       " 5.11  26.0\n",
       " 5.6   30.0\n",
       " 5.9   34.0\n",
       " 4.8   40.0\n",
       " 5.8   36.0\n",
       " 5.3   19.0\n",
       " 5.8   28.0\n",
       " 5.5   23.0\n",
       " 5.6   32.0"
      ]
     },
     "execution_count": 3,
     "metadata": {},
     "output_type": "execute_result"
    }
   ],
   "source": [
    "X_train = [[5 45];[5.11 26]; [5.6 30]; [5.9 34]; [4.8 40]; [5.8 36]; [5.3 19];\n",
    "            [5.8 28]; [5.5 23]; [5.6 32]]"
   ]
  },
  {
   "cell_type": "code",
   "execution_count": 4,
   "metadata": {},
   "outputs": [
    {
     "data": {
      "text/plain": [
       "10-element Array{Int64,1}:\n",
       " 77\n",
       " 47\n",
       " 55\n",
       " 59\n",
       " 72\n",
       " 60\n",
       " 40\n",
       " 60\n",
       " 45\n",
       " 58"
      ]
     },
     "execution_count": 4,
     "metadata": {},
     "output_type": "execute_result"
    }
   ],
   "source": [
    "Y_train = [77; 47; 55; 59; 72; 60; 40; 60; 45; 58]"
   ]
  },
  {
   "cell_type": "code",
   "execution_count": 5,
   "metadata": {},
   "outputs": [
    {
     "data": {
      "text/plain": [
       "1×2 Array{Float64,2}:\n",
       " 5.5  38.0"
      ]
     },
     "execution_count": 5,
     "metadata": {},
     "output_type": "execute_result"
    }
   ],
   "source": [
    "X_test = [5.5 38]"
   ]
  },
  {
   "cell_type": "code",
   "execution_count": 6,
   "metadata": {},
   "outputs": [
    {
     "data": {
      "text/plain": [
       "1-element Array{Any,1}:\n",
       " 63.6667"
      ]
     },
     "execution_count": 6,
     "metadata": {},
     "output_type": "execute_result"
    }
   ],
   "source": [
    "kNearestNeighbor(X_train, Y_train, X_test, 3)"
   ]
  },
  {
   "cell_type": "markdown",
   "metadata": {},
   "source": [
    "## 2. Com condensation"
   ]
  },
  {
   "cell_type": "code",
   "execution_count": null,
   "metadata": {},
   "outputs": [],
   "source": []
  }
 ],
 "metadata": {
  "kernelspec": {
   "display_name": "Julia 0.6.4",
   "language": "julia",
   "name": "julia-0.6"
  },
  "language_info": {
   "file_extension": ".jl",
   "mimetype": "application/julia",
   "name": "julia",
   "version": "0.6.4"
  }
 },
 "nbformat": 4,
 "nbformat_minor": 2
}
