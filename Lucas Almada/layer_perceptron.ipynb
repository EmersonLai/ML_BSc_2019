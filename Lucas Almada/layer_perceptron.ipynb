{
 "cells": [
  {
   "cell_type": "code",
   "execution_count": 4,
   "metadata": {},
   "outputs": [],
   "source": [
    "import numpy as np\n",
    "\n",
    "def output(H):\n",
    "    produto = 1\n",
    "    for i in H:\n",
    "        product = product * i\n",
    "    \n",
    "    if product > 0:\n",
    "        return \"Point inside the square\"\n",
    "    else:\n",
    "        return \"Point outside the square\"\n",
    "    \n",
    "def three_layer_perceptron(X):\n",
    "    \n",
    "    X = [1, X[0], X[1]]\n",
    "    \n",
    "    \n",
    "    # First hidden layer\n",
    "    \n",
    "    W = []\n",
    "    \n",
    "    w1 = [1,0,1]  # y = 1\n",
    "    w2 = [1,0,1]  # y = -1\n",
    "    w3 = [1,1,0]  # x = 1\n",
    "    w4 = [1,1,0]  # x = -1\n",
    "    \n",
    "    W.append([w1,w2,w3,w4])\n",
    "\n",
    "    \"\"\" In the First Hidden Layer we will  check if it is valid for \n",
    "    all perceptrons and that each perceptron  verifies the validity for a line.\"\"\"\n",
    "\n",
    "    H = []\n",
    "    \n",
    "    for i in W:\n",
    "        H.append(np.dot(i, X))\n",
    "    \n",
    "    \"\"\"Now H will have positive and negative values. \n",
    "Positives indicate that this point is within the region that the perceptron is limiting.\"\"\"  \n",
    "    \n",
    "    \n",
    "    H_final = []\n",
    "    \n",
    "    for i in H:\n",
    "        if i > 0:\n",
    "            H_final.append(1)\n",
    "        else:\n",
    "            H_final.append(0)\n",
    "    \n",
    "    \n",
    "    return output(H_final)"
   ]
  },
  {
   "cell_type": "code",
   "execution_count": null,
   "metadata": {},
   "outputs": [],
   "source": []
  }
 ],
 "metadata": {
  "kernelspec": {
   "display_name": "Python 3",
   "language": "python",
   "name": "python3"
  },
  "language_info": {
   "codemirror_mode": {
    "name": "ipython",
    "version": 3
   },
   "file_extension": ".py",
   "mimetype": "text/x-python",
   "name": "python",
   "nbconvert_exporter": "python",
   "pygments_lexer": "ipython3",
   "version": "3.5.2"
  }
 },
 "nbformat": 4,
 "nbformat_minor": 2
}
